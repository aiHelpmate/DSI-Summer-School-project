{
 "cells": [
  {
   "cell_type": "markdown",
   "metadata": {},
   "source": [
    "# Brain Tumour Segmentation Network\n",
    "## Import packages\n",
    "Please make sure you have all the required packages installed for this project."
   ]
  },
  {
   "cell_type": "code",
   "execution_count": 21,
   "metadata": {},
   "outputs": [],
   "source": [
    "import os\n",
    "import shutil\n",
    "import random\n",
    "import numpy as np\n",
    "import matplotlib.pyplot as plt\n",
    "from tqdm import tqdm\n",
    "import torch\n",
    "import torch.nn as nn\n",
    "import torch.optim as optim\n",
    "from torch.utils.data import Dataset, DataLoader\n",
    "import torchvision.transforms as transforms\n",
    "from torchvision.models import vgg16\n",
    "import torch.nn.functional as F\n",
    "from PIL import Image\n",
    "import nibabel as nib\n",
    "from pathlib import Path\n",
    "from typing import List, Optional\n",
    "import torchio as tio\n",
    "import zipfile\n",
    "from scipy.ndimage import zoom"
   ]
  },
  {
   "cell_type": "code",
   "execution_count": 2,
   "metadata": {},
   "outputs": [
    {
     "name": "stdout",
     "output_type": "stream",
     "text": [
      "Using device: cuda\n"
     ]
    }
   ],
   "source": [
    "# Set device (GPU if available, else CPU)\n",
    "device = torch.device('cuda' if torch.cuda.is_available() else 'cpu')\n",
    "print(f'Using device: {device}')\n",
    "\n",
    "# Set random seeds for reproducibility\n",
    "torch.manual_seed(42)\n",
    "np.random.seed(42)\n",
    "random.seed(42)"
   ]
  },
  {
   "cell_type": "code",
   "execution_count": 3,
   "metadata": {},
   "outputs": [
    {
     "name": "stdout",
     "output_type": "stream",
     "text": [
      "Training samples: 168\n",
      "Validation samples: 42\n"
     ]
    }
   ],
   "source": [
    "base_dirs = ['Train', 'Val']\n",
    "for d in base_dirs:\n",
    "    if os.path.exists(d):\n",
    "        shutil.rmtree(d)\n",
    "    os.makedirs(d, exist_ok=True)\n",
    "\n",
    "# Split dataset into training and validation sets\n",
    "dataset_path = 'dataset_segmentation/train/'\n",
    "train_list = []\n",
    "val_list = []\n",
    "\n",
    "# 获取所有病例文件夹\n",
    "all_cases = [d for d in os.listdir(dataset_path) if not d.startswith('.') and os.path.isdir(os.path.join(dataset_path, d))]\n",
    "random.shuffle(all_cases)\n",
    "\n",
    "# 计算分割点\n",
    "num_cases = len(all_cases)\n",
    "split_idx = int(0.8 * num_cases)  # 80% for training\n",
    "\n",
    "# 分割数据集\n",
    "for i, case_name in enumerate(all_cases):\n",
    "    case_dir = os.path.join(dataset_path, case_name)\n",
    "    \n",
    "    if i < split_idx:\n",
    "        # 训练集 - 创建对应的病例文件夹\n",
    "        dest_case_dir = os.path.join('Train', case_name)\n",
    "        shutil.copytree(case_dir, dest_case_dir)\n",
    "        train_list.append(case_name)\n",
    "    else:\n",
    "        # 验证集 - 创建对应的病例文件夹\n",
    "        dest_case_dir = os.path.join('Val', case_name)\n",
    "        shutil.copytree(case_dir, dest_case_dir)\n",
    "        val_list.append(case_name)\n",
    "\n",
    "print(f'Training samples: {len(train_list)}')\n",
    "print(f'Validation samples: {len(val_list)}')"
   ]
  },
  {
   "cell_type": "markdown",
   "metadata": {},
   "source": [
    "## Visualise MRI Volume Slices and Segmentation Maps\n",
    "Each MRI image contains information about a three-dimensional (3D) volume of space. An MRI image is composed of a number of voxels, which are like pixels in 2D images. Here, try to visualise the axial plane (which usually has higher resolution) of some of the volumes and the corresponding segmentation maps."
   ]
  },
  {
   "cell_type": "code",
   "execution_count": 4,
   "metadata": {},
   "outputs": [],
   "source": [
    "def show_axial_slices(\n",
    "    mri_path: str,\n",
    "    mask_path: str,\n",
    "    case_id: str,\n",
    "    num_slices: int = 5,\n",
    "    save_path: Optional[str] = None\n",
    "):\n",
    "    \"\"\"\n",
    "    Visualize axial slices of MRI volumes and corresponding segmentation maps\n",
    "    \n",
    "    Args:\n",
    "        mri_path (str): Path to the MRI volume file (.nii.gz)\n",
    "        mask_path (str): Path to the segmentation mask file (.nii.gz)\n",
    "        case_id (str): Case identifier for labeling\n",
    "        num_slices (int): Number of axial slices to display\n",
    "        save_path (str, optional): If provided, save figure to this path\n",
    "    \"\"\"\n",
    "    if not os.path.exists(mri_path):\n",
    "        raise FileNotFoundError(f\"MRI file not found: {mri_path}\")\n",
    "    if not os.path.exists(mask_path):\n",
    "        raise FileNotFoundError(f\"Mask file not found: {mask_path}\")\n",
    "\n",
    "    mri = nib.load(mri_path).get_fdata()\n",
    "    mask = nib.load(mask_path).get_fdata()\n",
    "\n",
    "    if mri.shape != mask.shape:\n",
    "        raise ValueError(f\"Shape mismatch: MRI {mri.shape} vs Mask {mask.shape}\")\n",
    "\n",
    "    print(f\"Case {case_id} volume dimensions: {mri.shape}\")\n",
    "\n",
    "    # Select evenly spaced slices (avoid first and last)\n",
    "    slice_indices = np.linspace(0, mri.shape[2] - 1, num_slices + 2, dtype=int)[1:-1]\n",
    "\n",
    "    fig, axes = plt.subplots(num_slices, 2, figsize=(12, 3 * num_slices))\n",
    "    fig.suptitle(f'Case {case_id} - Axial Plane Visualization', fontsize=16)\n",
    "\n",
    "    if num_slices == 1:\n",
    "        axes = np.array([[axes[0], axes[1]]])\n",
    "\n",
    "    for i, slice_idx in enumerate(slice_indices):\n",
    "        mri_slice = mri[:, :, slice_idx]\n",
    "        mask_slice = mask[:, :, slice_idx]\n",
    "\n",
    "        # Display MRI\n",
    "        axes[i, 0].imshow(mri_slice.T, cmap='gray', origin='lower')\n",
    "        axes[i, 0].set_title(f'MRI Axial Slice {slice_idx}')\n",
    "        axes[i, 0].axis('off')\n",
    "\n",
    "        # Display MRI + Overlay\n",
    "        axes[i, 1].imshow(mri_slice.T, cmap='gray', origin='lower')\n",
    "\n",
    "        # Create overlay (red for mask)\n",
    "        overlay = np.zeros((*mask_slice.shape, 4))\n",
    "        overlay[..., 0] = 1.0  # Red\n",
    "        overlay[..., 3] = (mask_slice > 0).T * 0.5  # Alpha\n",
    "\n",
    "        axes[i, 1].imshow(overlay, origin='lower')\n",
    "        axes[i, 1].set_title(f'MRI with Segmentation (Slice {slice_idx})')\n",
    "        axes[i, 1].axis('off')\n",
    "\n",
    "        # Add tumor percentage\n",
    "        tumor_percentage = (np.sum(mask_slice > 0) / np.prod(mask_slice.shape)) * 100\n",
    "        axes[i, 1].text(0.05, 0.95, f'Tumor: {tumor_percentage:.2f}%',\n",
    "                        transform=axes[i, 1].transAxes,\n",
    "                        color='white', fontsize=10,\n",
    "                        bbox=dict(facecolor='black', alpha=0.5))\n",
    "\n",
    "    plt.tight_layout(rect=[0, 0, 1, 0.96])\n",
    "    if save_path:\n",
    "        plt.savefig(save_path, dpi=150, bbox_inches='tight')\n",
    "        print(f\"Saved visualization to {save_path}\")\n",
    "    plt.show()"
   ]
  },
  {
   "cell_type": "code",
   "execution_count": 5,
   "metadata": {},
   "outputs": [],
   "source": [
    "def visualize_dataset(\n",
    "    dataset_paths: List[str] = ['Train', 'Val'],\n",
    "    num_cases: int = 2,\n",
    "    num_slices: int = 3,\n",
    "    save_dir: Optional[str] = None\n",
    "):\n",
    "    \"\"\"\n",
    "    Visualize axial slices for multiple cases in the dataset\n",
    "\n",
    "    Args:\n",
    "        dataset_paths (list): List of dataset paths to visualize\n",
    "        num_cases (int): Number of cases to visualize from each dataset\n",
    "        num_slices (int): Number of axial slices per case\n",
    "        save_dir (str, optional): Directory to save visualizations\n",
    "    \"\"\"\n",
    "    print(\"=== Starting Medical Image Visualization ===\")\n",
    "    print(\"Focus: Axial plane (typically highest resolution in MRI)\")\n",
    "\n",
    "    for dataset_path in dataset_paths:\n",
    "        if os.path.exists(dataset_path):\n",
    "            print(f\"\\n--- Visualizing {dataset_path} Dataset ---\")\n",
    "\n",
    "            case_folders = [f for f in os.listdir(dataset_path)\n",
    "                            if os.path.isdir(os.path.join(dataset_path, f))][:num_cases]\n",
    "\n",
    "            for case_folder in case_folders:\n",
    "                case_path = os.path.join(dataset_path, case_folder)\n",
    "\n",
    "                mri_file = None\n",
    "                mask_file = None\n",
    "\n",
    "                for file_name in os.listdir(case_path):\n",
    "                    if 'fla' in file_name and file_name.endswith('.nii.gz'):\n",
    "                        mri_file = os.path.join(case_path, file_name)\n",
    "                    elif 'seg' in file_name and file_name.endswith('.nii.gz'):\n",
    "                        mask_file = os.path.join(case_path, file_name)\n",
    "\n",
    "                if mri_file and mask_file:\n",
    "                    print(f\"\\nVisualizing case: {case_folder}\")\n",
    "                    save_path = None\n",
    "                    if save_dir:\n",
    "                        os.makedirs(save_dir, exist_ok=True)\n",
    "                        save_path = os.path.join(save_dir, f\"{dataset_path}_{case_folder}.png\")\n",
    "                    show_axial_slices(mri_file, mask_file, case_folder, num_slices, save_path)\n",
    "                else:\n",
    "                    print(f\"Case {case_folder} is missing required files\")"
   ]
  },
  {
   "cell_type": "code",
   "execution_count": 6,
   "metadata": {},
   "outputs": [
    {
     "name": "stdout",
     "output_type": "stream",
     "text": [
      "=== Starting Medical Image Visualization ===\n",
      "Focus: Axial plane (typically highest resolution in MRI)\n",
      "\n",
      "--- Visualizing Train Dataset ---\n",
      "\n",
      "Visualizing case: 187\n",
      "Case 187 volume dimensions: (240, 240, 155)\n"
     ]
    },
    {
     "data": {
      "image/png": "[encoded data removed]",
      "text/plain": [
       "<Figure size 1200x900 with 6 Axes>"
      ]
     },
     "metadata": {},
     "output_type": "display_data"
    },
    {
     "name": "stdout",
     "output_type": "stream",
     "text": [
      "\n",
      "--- Visualizing Val Dataset ---\n",
      "\n",
      "Visualizing case: 151\n",
      "Case 151 volume dimensions: (240, 240, 155)\n"
     ]
    },
    {
     "data": {
      "image/png": "[encoded data removed]",
      "text/plain": [
       "<Figure size 1200x900 with 6 Axes>"
      ]
     },
     "metadata": {},
     "output_type": "display_data"
    }
   ],
   "source": [
    "visualize_dataset(num_cases=1, num_slices=3, save_dir=None)"
   ]
  },
  {
   "cell_type": "markdown",
   "metadata": {},
   "source": [
    "## Data preprocessing (Optional)\n",
    "\n",
    "Images in the original dataset are usually of different sizes, so sometimes we need to resize and normalise them (z-score is commonly used in preprocessing MRI images) to fit the CNN model. Depending on the images you choose to use for training your model, you may need to apply other preprocessing methods. If preprocessing methods like cropping are applied, remember to convert the segmentation result back to its original size."
   ]
  },
  {
   "cell_type": "code",
   "execution_count": null,
   "metadata": {},
   "outputs": [],
   "source": []
  },
  {
   "cell_type": "markdown",
   "metadata": {},
   "source": [
    "## Train-time data augmentation\n",
    "Generalizability is crucial to a deep learning model, and it refers to the performance difference of a model when evaluated on seen data (training data) versus unseen data (testing data). Improving the generalizability of these models has always been a difficult challenge. \n",
    "\n",
    "**Data Augmentation** is an effective way of improving generalizability, because the augmented data will represent a more comprehensive set of possible data samples and minimize the distance between the training and validation/testing sets.\n",
    "\n",
    "There are many data augmentation methods you can choose from in this project, including rotation, shifting, flipping, etc. PyTorch provides excellent data augmentation capabilities through torchvision.transforms, which you can combine with custom transforms for medical imaging.\n",
    "\n",
    "You are encouraged to try different augmentation methods to get the best segmentation result.\n",
    "\n",
    "\n",
    "## Get the data generator ready"
   ]
  },
  {
   "cell_type": "code",
   "execution_count": 7,
   "metadata": {},
   "outputs": [],
   "source": [
    "class BrainTumorSegmentationDataset(Dataset):\n",
    "    def __init__(self, case_dirs, augment=False):\n",
    "        self.case_dirs = case_dirs\n",
    "        self.augment = augment\n",
    "\n",
    "        # Define preprocessing transforms\n",
    "        self.preprocessing = tio.Compose([\n",
    "            tio.Resize((128, 128, 64)),\n",
    "            tio.RescaleIntensity(out_min_max=(0, 1)),\n",
    "        ])\n",
    "\n",
    "        # Define augmentation transforms\n",
    "        if self.augment:\n",
    "            self.transforms = tio.Compose([\n",
    "                tio.RandomFlip(axes=(0, 1), flip_probability=0.5),\n",
    "                tio.RandomAffine(\n",
    "                    scales=(0.9, 1.1),\n",
    "                    degrees=10,\n",
    "                    translation=(10, 10, 5),\n",
    "                    p=0.5\n",
    "                ),\n",
    "                tio.RandomNoise(std=(0, 0.1), p=0.3),\n",
    "            ])\n",
    "        else:\n",
    "            self.transforms = None\n",
    "\n",
    "    def __len__(self):\n",
    "        return len(self.case_dirs)\n",
    "\n",
    "    def __getitem__(self, idx):\n",
    "        case_dir = self.case_dirs[idx]\n",
    "        case_name = os.path.basename(case_dir)\n",
    "\n",
    "        # Load MRI and segmentation files\n",
    "        mri_path = os.path.join(case_dir, f\"{case_name.split('_')[-1]}_fla.nii.gz\")\n",
    "        seg_path = os.path.join(case_dir, f\"{case_name.split('_')[-1]}_seg.nii.gz\")\n",
    "\n",
    "        # Load using torchio\n",
    "        subject = tio.Subject(\n",
    "            mri=tio.ScalarImage(mri_path),\n",
    "            seg=tio.LabelMap(seg_path)\n",
    "        )\n",
    "\n",
    "        # Apply preprocessing\n",
    "        subject = self.preprocessing(subject)\n",
    "\n",
    "        # Apply augmentation\n",
    "        if self.transforms:\n",
    "            subject = self.transforms(subject)\n",
    "\n",
    "        # Get tensors\n",
    "        mri_tensor = subject.mri.data.float()  # Shape: (1, H, W, D)\n",
    "        seg_tensor = subject.seg.data.long()   # Shape: (1, H, W, D)\n",
    "        seg_tensor = (seg_tensor > 0).long()   # Binary segmentation\n",
    "\n",
    "        # 随机选择一个 axial slice\n",
    "        depth = mri_tensor.shape[-1]\n",
    "        slice_idx = torch.randint(0, depth, (1,)).item()\n",
    "        \n",
    "        # 提取 2D slice\n",
    "        mri_slice = mri_tensor[:, :, :, slice_idx]  # Shape: (1, H, W)\n",
    "        seg_slice = seg_tensor[:, :, :, slice_idx]  # Shape: (1, H, W)\n",
    "\n",
    "        return mri_slice, seg_slice"
   ]
  },
  {
   "cell_type": "code",
   "execution_count": 8,
   "metadata": {},
   "outputs": [
    {
     "name": "stdout",
     "output_type": "stream",
     "text": [
      "Training samples: 168, batches: 42\n",
      "Validation samples: 42, batches: 11\n"
     ]
    }
   ],
   "source": [
    "# Prepare case directories\n",
    "train_case_dirs = [os.path.join('Train', d) for d in os.listdir('Train') if not d.startswith('.')]\n",
    "val_case_dirs = [os.path.join('Val', d) for d in os.listdir('Val') if not d.startswith('.')]\n",
    "\n",
    "# Create datasets\n",
    "train_dataset = BrainTumorSegmentationDataset(train_case_dirs, augment=True)\n",
    "val_dataset = BrainTumorSegmentationDataset(val_case_dirs, augment=False)\n",
    "\n",
    "# Create data loaders\n",
    "batch_size = 4\n",
    "train_loader = DataLoader(train_dataset, batch_size=batch_size, shuffle=True, num_workers=2)\n",
    "val_loader = DataLoader(val_dataset, batch_size=batch_size, shuffle=False, num_workers=2)\n",
    "\n",
    "print(f\"Training samples: {len(train_dataset)}, batches: {len(train_loader)}\")\n",
    "print(f\"Validation samples: {len(val_dataset)}, batches: {len(val_loader)}\")"
   ]
  },
  {
   "cell_type": "markdown",
   "metadata": {},
   "source": [
    "## Define a metric for the performance of the model\n",
    "The Dice score is used here to evaluate the performance of your model.\n",
    "More details about the Dice score and other metrics can be found at \n",
    "https://towardsdatascience.com/metrics-to-evaluate-your-semantic-segmentation-model-6bcb99639aa2. The Dice score can also be used as the loss function for training your model."
   ]
  },
  {
   "cell_type": "code",
   "execution_count": 9,
   "metadata": {},
   "outputs": [],
   "source": [
    "def binary_dice_score(pred: torch.Tensor, target: torch.Tensor, smooth: float = 1e-6) -> torch.Tensor:\n",
    "    \"\"\"\n",
    "    Compute Dice Score for binary segmentation\n",
    "    \n",
    "    Args:\n",
    "        pred: Predictions tensor of shape (N, 1, H, W) or (N, H, W)\n",
    "        target: Ground truth tensor of same shape (binary: 0 or 1)\n",
    "        smooth: Smoothing factor to avoid division by zero\n",
    "    \n",
    "    Returns:\n",
    "        Dice score tensor of shape (N,) - dice score per sample\n",
    "    \"\"\"\n",
    "    # Flatten tensors\n",
    "    pred_flat = pred.view(pred.size(0), -1)\n",
    "    target_flat = target.view(target.size(0), -1)\n",
    "    \n",
    "    # Compute intersection and union\n",
    "    intersection = (pred_flat * target_flat).sum(dim=1)\n",
    "    pred_sum = pred_flat.sum(dim=1)\n",
    "    target_sum = target_flat.sum(dim=1)\n",
    "    \n",
    "    # Compute dice score\n",
    "    dice = (2. * intersection + smooth) / (pred_sum + target_sum + smooth)\n",
    "    \n",
    "    return dice\n",
    "\n",
    "def binary_dice_score_batch(pred: torch.Tensor, target: torch.Tensor, smooth: float = 1e-6) -> float:\n",
    "    \"\"\"\n",
    "    Compute Dice Score for entire batch (single scalar)\n",
    "    \n",
    "    Returns:\n",
    "        Average dice score across all samples in batch\n",
    "    \"\"\"\n",
    "    dice_scores = binary_dice_score(pred, target, smooth)\n",
    "    return dice_scores.mean().item()"
   ]
  },
  {
   "cell_type": "code",
   "execution_count": 10,
   "metadata": {},
   "outputs": [],
   "source": [
    "class DiceLoss(nn.Module):\n",
    "    def __init__(self, smooth: float = 1e-6):\n",
    "        super(DiceLoss, self).__init__()\n",
    "        self.smooth = smooth\n",
    "\n",
    "    def forward(self, pred: torch.Tensor, target: torch.Tensor) -> torch.Tensor:\n",
    "        \"\"\"\n",
    "        Compute Dice Loss\n",
    "        \n",
    "        Args:\n",
    "            pred: Predictions (logits or probabilities) of shape (N, 1, H, W)\n",
    "            target: Ground truth of same shape (binary: 0 or 1)\n",
    "        \n",
    "        Returns:\n",
    "            Dice loss (scalar tensor)\n",
    "        \"\"\"\n",
    "        # Apply sigmoid if pred are logits\n",
    "        if pred.requires_grad:  # Assume logits\n",
    "            pred = torch.sigmoid(pred)\n",
    "        \n",
    "        # Flatten\n",
    "        pred_flat = pred.view(pred.size(0), -1)\n",
    "        target_flat = target.view(target.size(0), -1)\n",
    "        \n",
    "        # Compute intersection and union\n",
    "        intersection = (pred_flat * target_flat).sum()\n",
    "        pred_sum = pred_flat.sum()\n",
    "        target_sum = target_flat.sum()\n",
    "        \n",
    "        # Compute dice loss\n",
    "        dice = (2. * intersection + self.smooth) / (pred_sum + target_sum + self.smooth)\n",
    "        loss = 1 - dice\n",
    "        \n",
    "        return loss"
   ]
  },
  {
   "cell_type": "markdown",
   "metadata": {},
   "source": [
    "## Build your own model here\n",
    "The U-Net (https://link.springer.com/chapter/10.1007/978-3-319-24574-4_28) structure is widely used for medical image segmentation tasks. You can build your own model or modify the U-Net by changing the hyperparameters for our task. If you choose to use PyTorch, more information about PyTorch layers, including Conv2d, MaxPool2d, and Dropout, can be found at https://pytorch.org/docs/stable/nn.html. You can also explore popular PyTorch implementations of U-Net for medical image segmentation."
   ]
  },
  {
   "cell_type": "code",
   "execution_count": 11,
   "metadata": {},
   "outputs": [],
   "source": [
    "class UNet(nn.Module):\n",
    "    def __init__(self, in_channels=1, out_channels=1, init_features=32):\n",
    "        \"\"\"\n",
    "        U-Net for medical image segmentation\n",
    "        \n",
    "        Args:\n",
    "            in_channels (int): Number of input channels (e.g., 1 for grayscale MRI)\n",
    "            out_channels (int): Number of output channels (1 for binary segmentation)\n",
    "            init_features (int): Number of features in the first layer\n",
    "        \"\"\"\n",
    "        super(UNet, self).__init__()\n",
    "        \n",
    "        features = init_features\n",
    "        \n",
    "        # Encoder (Contracting Path)\n",
    "        self.encoder1 = self._block(in_channels, features, name=\"enc1\")\n",
    "        self.pool1 = nn.MaxPool2d(kernel_size=2, stride=2)\n",
    "        \n",
    "        self.encoder2 = self._block(features, features * 2, name=\"enc2\")\n",
    "        self.pool2 = nn.MaxPool2d(kernel_size=2, stride=2)\n",
    "        \n",
    "        self.encoder3 = self._block(features * 2, features * 4, name=\"enc3\")\n",
    "        self.pool3 = nn.MaxPool2d(kernel_size=2, stride=2)\n",
    "        \n",
    "        self.encoder4 = self._block(features * 4, features * 8, name=\"enc4\")\n",
    "        self.pool4 = nn.MaxPool2d(kernel_size=2, stride=2)\n",
    "        \n",
    "        # Bottleneck\n",
    "        self.bottleneck = self._block(features * 8, features * 16, name=\"bottleneck\")\n",
    "        \n",
    "        # Decoder (Expansive Path)\n",
    "        self.upconv4 = nn.ConvTranspose2d(\n",
    "            features * 16, features * 8, kernel_size=2, stride=2\n",
    "        )\n",
    "        self.decoder4 = self._block((features * 8) * 2, features * 8, name=\"dec4\")\n",
    "        \n",
    "        self.upconv3 = nn.ConvTranspose2d(\n",
    "            features * 8, features * 4, kernel_size=2, stride=2\n",
    "        )\n",
    "        self.decoder3 = self._block((features * 4) * 2, features * 4, name=\"dec3\")\n",
    "        \n",
    "        self.upconv2 = nn.ConvTranspose2d(\n",
    "            features * 4, features * 2, kernel_size=2, stride=2\n",
    "        )\n",
    "        self.decoder2 = self._block((features * 2) * 2, features * 2, name=\"dec2\")\n",
    "        \n",
    "        self.upconv1 = nn.ConvTranspose2d(\n",
    "            features * 2, features, kernel_size=2, stride=2\n",
    "        )\n",
    "        self.decoder1 = self._block(features * 2, features, name=\"dec1\")\n",
    "        \n",
    "        # Final output layer\n",
    "        self.conv_out = nn.Conv2d(\n",
    "            in_channels=features, out_channels=out_channels, kernel_size=1\n",
    "        )\n",
    "        \n",
    "    def forward(self, x):\n",
    "        # Encoder\n",
    "        enc1 = self.encoder1(x)\n",
    "        enc2 = self.encoder2(self.pool1(enc1))\n",
    "        enc3 = self.encoder3(self.pool2(enc2))\n",
    "        enc4 = self.encoder4(self.pool3(enc3))\n",
    "        \n",
    "        # Bottleneck\n",
    "        bottleneck = self.bottleneck(self.pool4(enc4))\n",
    "        \n",
    "        # Decoder with skip connections\n",
    "        dec4 = self.upconv4(bottleneck)\n",
    "        dec4 = torch.cat((dec4, enc4), dim=1)\n",
    "        dec4 = self.decoder4(dec4)\n",
    "        \n",
    "        dec3 = self.upconv3(dec4)\n",
    "        dec3 = torch.cat((dec3, enc3), dim=1)\n",
    "        dec3 = self.decoder3(dec3)\n",
    "        \n",
    "        dec2 = self.upconv2(dec3)\n",
    "        dec2 = torch.cat((dec2, enc2), dim=1)\n",
    "        dec2 = self.decoder2(dec2)\n",
    "        \n",
    "        dec1 = self.upconv1(dec2)\n",
    "        dec1 = torch.cat((dec1, enc1), dim=1)\n",
    "        dec1 = self.decoder1(dec1)\n",
    "        \n",
    "        # Output\n",
    "        output = self.conv_out(dec1)\n",
    "        return output\n",
    "    \n",
    "    def _block(self, in_channels, out_channels, name):\n",
    "        \"\"\"Helper function to create a double convolution block\"\"\"\n",
    "        return nn.Sequential(\n",
    "            nn.Conv2d(\n",
    "                in_channels=in_channels,\n",
    "                out_channels=out_channels,\n",
    "                kernel_size=3,\n",
    "                padding=1,\n",
    "                bias=False,\n",
    "            ),\n",
    "            nn.BatchNorm2d(out_channels),\n",
    "            nn.ReLU(inplace=True),\n",
    "            nn.Conv2d(\n",
    "                in_channels=out_channels,\n",
    "                out_channels=out_channels,\n",
    "                kernel_size=3,\n",
    "                padding=1,\n",
    "                bias=False,\n",
    "            ),\n",
    "            nn.BatchNorm2d(out_channels),\n",
    "            nn.ReLU(inplace=True),\n",
    "        )"
   ]
  },
  {
   "cell_type": "code",
   "execution_count": null,
   "metadata": {},
   "outputs": [],
   "source": []
  },
  {
   "cell_type": "markdown",
   "metadata": {},
   "source": [
    "## Train your model here\n",
    "Once you have defined the model and data generator, you can start training your model. In PyTorch, you'll need to set up the training loop with the optimizer, loss function, and implement forward and backward passes manually."
   ]
  },
  {
   "cell_type": "code",
   "execution_count": 12,
   "metadata": {},
   "outputs": [],
   "source": [
    "# Training function for segmentation\n",
    "def train_epoch(model, train_loader, criterion, optimizer, device, epoch):\n",
    "    model.train()\n",
    "    running_loss = 0.0\n",
    "    running_dice = 0.0\n",
    "    \n",
    "    # Progress bar\n",
    "    with tqdm(total=len(train_loader), desc=f\"Training Epoch {epoch+1}\", unit=\"batch\") as pbar:\n",
    "        for batch_idx, (data, targets) in enumerate(train_loader):\n",
    "            data, targets = data.to(device), targets.to(device)\n",
    "            \n",
    "            # Ensure targets are float for Dice loss\n",
    "            targets = targets.float()\n",
    "            \n",
    "            optimizer.zero_grad()\n",
    "            outputs = model(data)\n",
    "            loss = criterion(outputs, targets)  # Dice Loss\n",
    "            loss.backward()\n",
    "            optimizer.step()\n",
    "            \n",
    "            running_loss += loss.item()\n",
    "            \n",
    "            # Calculate Dice Score for monitoring\n",
    "            with torch.no_grad():\n",
    "                pred_proba = torch.sigmoid(outputs)\n",
    "                pred_binary = (pred_proba > 0.5).float()\n",
    "                dice_score = binary_dice_score_batch(pred_binary, targets)\n",
    "                running_dice += dice_score\n",
    "            \n",
    "            # Update progress bar\n",
    "            pbar.set_postfix({\n",
    "                'loss': f'{loss.item():.4f}',\n",
    "                'dice': f'{dice_score:.4f}'\n",
    "            })\n",
    "            pbar.update(1)\n",
    "    \n",
    "    epoch_loss = running_loss / len(train_loader)\n",
    "    epoch_dice = running_dice / len(train_loader)\n",
    "    return epoch_loss, epoch_dice\n",
    "\n",
    "# Validation function for segmentation\n",
    "def validate_epoch(model, val_loader, criterion, device, epoch):\n",
    "    model.eval()\n",
    "    running_loss = 0.0\n",
    "    running_dice = 0.0\n",
    "    \n",
    "    with tqdm(total=len(val_loader), desc=f\"Validating Epoch {epoch+1}\", unit=\"batch\") as pbar:\n",
    "        with torch.no_grad():\n",
    "            for data, targets in val_loader:\n",
    "                data, targets = data.to(device), targets.to(device)\n",
    "                targets = targets.float()\n",
    "                \n",
    "                outputs = model(data)\n",
    "                loss = criterion(outputs, targets)  # Dice Loss\n",
    "                \n",
    "                running_loss += loss.item()\n",
    "                \n",
    "                # Calculate Dice Score\n",
    "                pred_proba = torch.sigmoid(outputs)\n",
    "                pred_binary = (pred_proba > 0.5).float()\n",
    "                dice_score = binary_dice_score_batch(pred_binary, targets)\n",
    "                running_dice += dice_score\n",
    "                \n",
    "                # Update progress bar\n",
    "                pbar.set_postfix({\n",
    "                    'loss': f'{loss.item():.4f}',\n",
    "                    'dice': f'{dice_score:.4f}'\n",
    "                })\n",
    "                pbar.update(1)\n",
    "    \n",
    "    epoch_loss = running_loss / len(val_loader)\n",
    "    epoch_dice = running_dice / len(val_loader)\n",
    "    return epoch_loss, epoch_dice"
   ]
  },
  {
   "cell_type": "code",
   "execution_count": 13,
   "metadata": {},
   "outputs": [],
   "source": [
    "# Training loop with early stopping\n",
    "def train_segmentation_model(model, train_loader, val_loader, num_epochs=50, patience=10):\n",
    "    \"\"\"\n",
    "    Train segmentation model with Dice loss and Dice score monitoring\n",
    "    \"\"\"\n",
    "    # Move model to device\n",
    "    model = model.to(device)\n",
    "    \n",
    "    # Use Dice Loss\n",
    "    # criterion = DiceLoss()\n",
    "    criterion = nn.BCEWithLogitsLoss()\n",
    "    \n",
    "    # Optimizer\n",
    "    optimizer = torch.optim.Adam(model.parameters(), lr=0.0005, weight_decay=1e-5)\n",
    "    \n",
    "    # Learning rate scheduler (optional)\n",
    "    scheduler = torch.optim.lr_scheduler.ReduceLROnPlateau(\n",
    "        optimizer, mode='max', patience=5, factor=0.5\n",
    "    )\n",
    "    \n",
    "    # Early stopping variables\n",
    "    best_val_dice = 0.0\n",
    "    patience_counter = 0\n",
    "    \n",
    "    # History tracking\n",
    "    train_losses = []\n",
    "    train_dices = []\n",
    "    val_losses = []\n",
    "    val_dices = []\n",
    "    \n",
    "    print(\"Starting segmentation training...\")\n",
    "    print(f\"Using device: {device}\")\n",
    "    print(\"-\" * 60)\n",
    "    \n",
    "    for epoch in range(num_epochs):\n",
    "        # Train\n",
    "        train_loss, train_dice = train_epoch(model, train_loader, criterion, optimizer, device, epoch)\n",
    "        \n",
    "        # Validate\n",
    "        val_loss, val_dice = validate_epoch(model, val_loader, criterion, device, epoch)\n",
    "        \n",
    "        # Update learning rate\n",
    "        scheduler.step(val_dice)\n",
    "        \n",
    "        # Store history\n",
    "        train_losses.append(train_loss)\n",
    "        train_dices.append(train_dice)\n",
    "        val_losses.append(val_loss)\n",
    "        val_dices.append(val_dice)\n",
    "        \n",
    "        print(f'Epoch {epoch+1}/{num_epochs}:')\n",
    "        print(f'  Train Loss: {train_loss:.4f}, Train Dice: {train_dice:.4f}')\n",
    "        print(f'  Val Loss: {val_loss:.4f}, Val Dice: {val_dice:.4f}')\n",
    "        \n",
    "        # Early stopping and model saving\n",
    "        if val_dice > best_val_dice:\n",
    "            best_val_dice = val_dice\n",
    "            patience_counter = 0\n",
    "            # Save best model\n",
    "            torch.save({\n",
    "                'epoch': epoch,\n",
    "                'model_state_dict': model.state_dict(),\n",
    "                'optimizer_state_dict': optimizer.state_dict(),\n",
    "                'best_val_dice': best_val_dice,\n",
    "            }, 'best_segmentation_model.pth')\n",
    "            print(f'  🎯 New best model saved! Val Dice: {best_val_dice:.4f}')\n",
    "        else:\n",
    "            patience_counter += 1\n",
    "            if patience_counter >= patience:\n",
    "                print(f'Early stopping triggered after {epoch+1} epochs')\n",
    "                break\n",
    "        \n",
    "        print('-' * 60)\n",
    "    \n",
    "    print(f'Training completed! Best validation Dice score: {best_val_dice:.4f}')\n",
    "    \n",
    "    # Return training history\n",
    "    history = {\n",
    "        'train_losses': train_losses,\n",
    "        'train_dices': train_dices,\n",
    "        'val_losses': val_losses,\n",
    "        'val_dices': val_dices,\n",
    "        'best_val_dice': best_val_dice\n",
    "    }\n",
    "    \n",
    "    return history"
   ]
  },
  {
   "cell_type": "code",
   "execution_count": 13,
   "metadata": {},
   "outputs": [
    {
     "name": "stdout",
     "output_type": "stream",
     "text": [
      "Starting segmentation training...\n",
      "Using device: cuda\n",
      "------------------------------------------------------------\n"
     ]
    },
    {
     "name": "stderr",
     "output_type": "stream",
     "text": [
      "Training Epoch 1: 100%|██████████| 42/42 [00:26<00:00,  1.61batch/s, loss=0.5367, dice=0.1842]\n",
      "Validating Epoch 1: 100%|██████████| 11/11 [00:05<00:00,  1.92batch/s, loss=0.5203, dice=0.0122]\n"
     ]
    },
    {
     "name": "stdout",
     "output_type": "stream",
     "text": [
      "Epoch 1/30:\n",
      "  Train Loss: 0.6412, Train Dice: 0.1906\n",
      "  Val Loss: 0.5293, Val Dice: 0.2266\n",
      "  🎯 New best model saved! Val Dice: 0.2266\n",
      "------------------------------------------------------------\n"
     ]
    },
    {
     "name": "stderr",
     "output_type": "stream",
     "text": [
      "Training Epoch 2: 100%|██████████| 42/42 [00:25<00:00,  1.63batch/s, loss=0.4585, dice=0.1594]\n",
      "Validating Epoch 2: 100%|██████████| 11/11 [00:05<00:00,  1.91batch/s, loss=0.4599, dice=0.6957]\n"
     ]
    },
    {
     "name": "stdout",
     "output_type": "stream",
     "text": [
      "Epoch 2/30:\n",
      "  Train Loss: 0.4922, Train Dice: 0.5121\n",
      "  Val Loss: 0.4674, Val Dice: 0.7633\n",
      "  🎯 New best model saved! Val Dice: 0.7633\n",
      "------------------------------------------------------------\n"
     ]
    },
    {
     "name": "stderr",
     "output_type": "stream",
     "text": [
      "Training Epoch 3: 100%|██████████| 42/42 [00:25<00:00,  1.66batch/s, loss=0.3688, dice=0.2500]\n",
      "Validating Epoch 3: 100%|██████████| 11/11 [00:05<00:00,  1.91batch/s, loss=0.3194, dice=1.0000]\n"
     ]
    },
    {
     "name": "stdout",
     "output_type": "stream",
     "text": [
      "Epoch 3/30:\n",
      "  Train Loss: 0.4099, Train Dice: 0.5682\n",
      "  Val Loss: 0.3459, Val Dice: 0.7241\n",
      "------------------------------------------------------------\n"
     ]
    },
    {
     "name": "stderr",
     "output_type": "stream",
     "text": [
      "Training Epoch 4: 100%|██████████| 42/42 [00:25<00:00,  1.66batch/s, loss=0.3143, dice=0.8895]\n",
      "Validating Epoch 4: 100%|██████████| 11/11 [00:05<00:00,  1.96batch/s, loss=0.3250, dice=0.8164]\n"
     ]
    },
    {
     "name": "stdout",
     "output_type": "stream",
     "text": [
      "Epoch 4/30:\n",
      "  Train Loss: 0.3382, Train Dice: 0.5919\n",
      "  Val Loss: 0.5199, Val Dice: 0.5621\n",
      "------------------------------------------------------------\n"
     ]
    },
    {
     "name": "stderr",
     "output_type": "stream",
     "text": [
      "Training Epoch 5: 100%|██████████| 42/42 [00:25<00:00,  1.65batch/s, loss=0.2506, dice=0.4682]\n",
      "Validating Epoch 5: 100%|██████████| 11/11 [00:05<00:00,  1.95batch/s, loss=0.2860, dice=0.7669]\n"
     ]
    },
    {
     "name": "stdout",
     "output_type": "stream",
     "text": [
      "Epoch 5/30:\n",
      "  Train Loss: 0.2861, Train Dice: 0.5672\n",
      "  Val Loss: 0.3046, Val Dice: 0.6865\n",
      "------------------------------------------------------------\n"
     ]
    },
    {
     "name": "stderr",
     "output_type": "stream",
     "text": [
      "Training Epoch 6: 100%|██████████| 42/42 [00:25<00:00,  1.63batch/s, loss=0.2163, dice=0.3255]\n",
      "Validating Epoch 6: 100%|██████████| 11/11 [00:05<00:00,  2.03batch/s, loss=0.2520, dice=0.5000]\n"
     ]
    },
    {
     "name": "stdout",
     "output_type": "stream",
     "text": [
      "Epoch 6/30:\n",
      "  Train Loss: 0.2371, Train Dice: 0.5715\n",
      "  Val Loss: 0.2602, Val Dice: 0.6751\n",
      "------------------------------------------------------------\n"
     ]
    },
    {
     "name": "stderr",
     "output_type": "stream",
     "text": [
      "Training Epoch 7: 100%|██████████| 42/42 [00:25<00:00,  1.67batch/s, loss=0.1742, dice=0.9773]\n",
      "Validating Epoch 7: 100%|██████████| 11/11 [00:05<00:00,  1.93batch/s, loss=0.1989, dice=0.4050]\n"
     ]
    },
    {
     "name": "stdout",
     "output_type": "stream",
     "text": [
      "Epoch 7/30:\n",
      "  Train Loss: 0.1991, Train Dice: 0.6910\n",
      "  Val Loss: 0.2051, Val Dice: 0.6341\n",
      "------------------------------------------------------------\n"
     ]
    },
    {
     "name": "stderr",
     "output_type": "stream",
     "text": [
      "Training Epoch 8: 100%|██████████| 42/42 [00:25<00:00,  1.62batch/s, loss=0.1711, dice=0.3276]\n",
      "Validating Epoch 8: 100%|██████████| 11/11 [00:05<00:00,  1.98batch/s, loss=0.1546, dice=1.0000]\n"
     ]
    },
    {
     "name": "stdout",
     "output_type": "stream",
     "text": [
      "Epoch 8/30:\n",
      "  Train Loss: 0.1700, Train Dice: 0.6154\n",
      "  Val Loss: 0.1699, Val Dice: 0.8217\n",
      "  🎯 New best model saved! Val Dice: 0.8217\n",
      "------------------------------------------------------------\n"
     ]
    },
    {
     "name": "stderr",
     "output_type": "stream",
     "text": [
      "Training Epoch 9: 100%|██████████| 42/42 [00:25<00:00,  1.67batch/s, loss=0.1305, dice=0.5000]\n",
      "Validating Epoch 9: 100%|██████████| 11/11 [00:05<00:00,  1.88batch/s, loss=0.1409, dice=0.8841]\n"
     ]
    },
    {
     "name": "stdout",
     "output_type": "stream",
     "text": [
      "Epoch 9/30:\n",
      "  Train Loss: 0.1450, Train Dice: 0.5969\n",
      "  Val Loss: 0.1462, Val Dice: 0.6779\n",
      "------------------------------------------------------------\n"
     ]
    },
    {
     "name": "stderr",
     "output_type": "stream",
     "text": [
      "Training Epoch 10: 100%|██████████| 42/42 [00:25<00:00,  1.66batch/s, loss=0.1071, dice=0.6691]\n",
      "Validating Epoch 10: 100%|██████████| 11/11 [00:06<00:00,  1.66batch/s, loss=0.1223, dice=0.4170]\n"
     ]
    },
    {
     "name": "stdout",
     "output_type": "stream",
     "text": [
      "Epoch 10/30:\n",
      "  Train Loss: 0.1245, Train Dice: 0.6514\n",
      "  Val Loss: 0.1285, Val Dice: 0.7065\n",
      "------------------------------------------------------------\n"
     ]
    },
    {
     "name": "stderr",
     "output_type": "stream",
     "text": [
      "Training Epoch 11: 100%|██████████| 42/42 [00:23<00:00,  1.75batch/s, loss=0.0921, dice=0.6878]\n",
      "Validating Epoch 11: 100%|██████████| 11/11 [00:07<00:00,  1.50batch/s, loss=0.0890, dice=0.8465]\n"
     ]
    },
    {
     "name": "stdout",
     "output_type": "stream",
     "text": [
      "Epoch 11/30:\n",
      "  Train Loss: 0.1071, Train Dice: 0.6181\n",
      "  Val Loss: 0.0990, Val Dice: 0.7167\n",
      "------------------------------------------------------------\n"
     ]
    },
    {
     "name": "stderr",
     "output_type": "stream",
     "text": [
      "Training Epoch 12: 100%|██████████| 42/42 [00:25<00:00,  1.65batch/s, loss=0.1080, dice=0.6045]\n",
      "Validating Epoch 12: 100%|██████████| 11/11 [00:06<00:00,  1.66batch/s, loss=0.0733, dice=1.0000]\n"
     ]
    },
    {
     "name": "stdout",
     "output_type": "stream",
     "text": [
      "Epoch 12/30:\n",
      "  Train Loss: 0.0966, Train Dice: 0.6157\n",
      "  Val Loss: 0.0899, Val Dice: 0.6908\n",
      "------------------------------------------------------------\n"
     ]
    },
    {
     "name": "stderr",
     "output_type": "stream",
     "text": [
      "Training Epoch 13: 100%|██████████| 42/42 [00:23<00:00,  1.76batch/s, loss=0.0886, dice=0.6817]\n",
      "Validating Epoch 13: 100%|██████████| 11/11 [00:05<00:00,  1.91batch/s, loss=0.0746, dice=0.7466]\n"
     ]
    },
    {
     "name": "stdout",
     "output_type": "stream",
     "text": [
      "Epoch 13/30:\n",
      "  Train Loss: 0.0853, Train Dice: 0.6252\n",
      "  Val Loss: 0.0767, Val Dice: 0.7630\n",
      "------------------------------------------------------------\n"
     ]
    },
    {
     "name": "stderr",
     "output_type": "stream",
     "text": [
      "Training Epoch 14: 100%|██████████| 42/42 [00:24<00:00,  1.68batch/s, loss=0.0789, dice=0.7947]\n",
      "Validating Epoch 14: 100%|██████████| 11/11 [00:05<00:00,  1.88batch/s, loss=0.0569, dice=1.0000]\n"
     ]
    },
    {
     "name": "stdout",
     "output_type": "stream",
     "text": [
      "Epoch 14/30:\n",
      "  Train Loss: 0.0778, Train Dice: 0.6213\n",
      "  Val Loss: 0.0693, Val Dice: 0.7641\n",
      "------------------------------------------------------------\n"
     ]
    },
    {
     "name": "stderr",
     "output_type": "stream",
     "text": [
      "Training Epoch 15: 100%|██████████| 42/42 [00:25<00:00,  1.63batch/s, loss=0.0732, dice=0.6193]\n",
      "Validating Epoch 15: 100%|██████████| 11/11 [00:05<00:00,  2.05batch/s, loss=0.0627, dice=0.8806]\n"
     ]
    },
    {
     "name": "stdout",
     "output_type": "stream",
     "text": [
      "Epoch 15/30:\n",
      "  Train Loss: 0.0649, Train Dice: 0.7083\n",
      "  Val Loss: 0.0672, Val Dice: 0.7098\n",
      "------------------------------------------------------------\n"
     ]
    },
    {
     "name": "stderr",
     "output_type": "stream",
     "text": [
      "Training Epoch 16: 100%|██████████| 42/42 [00:25<00:00,  1.66batch/s, loss=0.0801, dice=0.4314]\n",
      "Validating Epoch 16: 100%|██████████| 11/11 [00:05<00:00,  1.88batch/s, loss=0.0536, dice=0.5000]\n"
     ]
    },
    {
     "name": "stdout",
     "output_type": "stream",
     "text": [
      "Epoch 16/30:\n",
      "  Train Loss: 0.0620, Train Dice: 0.6638\n",
      "  Val Loss: 0.0591, Val Dice: 0.8257\n",
      "  🎯 New best model saved! Val Dice: 0.8257\n",
      "------------------------------------------------------------\n"
     ]
    },
    {
     "name": "stderr",
     "output_type": "stream",
     "text": [
      "Training Epoch 17: 100%|██████████| 42/42 [00:24<00:00,  1.70batch/s, loss=0.0792, dice=0.7388]\n",
      "Validating Epoch 17: 100%|██████████| 11/11 [00:05<00:00,  2.01batch/s, loss=0.0409, dice=0.5000]\n"
     ]
    },
    {
     "name": "stdout",
     "output_type": "stream",
     "text": [
      "Epoch 17/30:\n",
      "  Train Loss: 0.0618, Train Dice: 0.6966\n",
      "  Val Loss: 0.0540, Val Dice: 0.7800\n",
      "------------------------------------------------------------\n"
     ]
    },
    {
     "name": "stderr",
     "output_type": "stream",
     "text": [
      "Training Epoch 18: 100%|██████████| 42/42 [00:25<00:00,  1.65batch/s, loss=0.0730, dice=0.6863]\n",
      "Validating Epoch 18: 100%|██████████| 11/11 [00:05<00:00,  1.95batch/s, loss=0.0400, dice=1.0000]\n"
     ]
    },
    {
     "name": "stdout",
     "output_type": "stream",
     "text": [
      "Epoch 18/30:\n",
      "  Train Loss: 0.0608, Train Dice: 0.6415\n",
      "  Val Loss: 0.0551, Val Dice: 0.8018\n",
      "------------------------------------------------------------\n"
     ]
    },
    {
     "name": "stderr",
     "output_type": "stream",
     "text": [
      "Training Epoch 19: 100%|██████████| 42/42 [00:25<00:00,  1.66batch/s, loss=0.0433, dice=0.7000]\n",
      "Validating Epoch 19: 100%|██████████| 11/11 [00:05<00:00,  1.89batch/s, loss=0.0409, dice=0.7727]\n"
     ]
    },
    {
     "name": "stdout",
     "output_type": "stream",
     "text": [
      "Epoch 19/30:\n",
      "  Train Loss: 0.0556, Train Dice: 0.6361\n",
      "  Val Loss: 0.0480, Val Dice: 0.7345\n",
      "------------------------------------------------------------\n"
     ]
    },
    {
     "name": "stderr",
     "output_type": "stream",
     "text": [
      "Training Epoch 20: 100%|██████████| 42/42 [00:25<00:00,  1.68batch/s, loss=0.0454, dice=0.8428]\n",
      "Validating Epoch 20: 100%|██████████| 11/11 [00:06<00:00,  1.81batch/s, loss=0.0345, dice=1.0000]\n"
     ]
    },
    {
     "name": "stdout",
     "output_type": "stream",
     "text": [
      "Epoch 20/30:\n",
      "  Train Loss: 0.0553, Train Dice: 0.6021\n",
      "  Val Loss: 0.0426, Val Dice: 0.7819\n",
      "------------------------------------------------------------\n"
     ]
    },
    {
     "name": "stderr",
     "output_type": "stream",
     "text": [
      "Training Epoch 21: 100%|██████████| 42/42 [00:24<00:00,  1.70batch/s, loss=0.0428, dice=0.6106]\n",
      "Validating Epoch 21: 100%|██████████| 11/11 [00:06<00:00,  1.73batch/s, loss=0.0390, dice=0.8892]\n"
     ]
    },
    {
     "name": "stdout",
     "output_type": "stream",
     "text": [
      "Epoch 21/30:\n",
      "  Train Loss: 0.0488, Train Dice: 0.6821\n",
      "  Val Loss: 0.0478, Val Dice: 0.7535\n",
      "------------------------------------------------------------\n"
     ]
    },
    {
     "name": "stderr",
     "output_type": "stream",
     "text": [
      "Training Epoch 22: 100%|██████████| 42/42 [00:24<00:00,  1.71batch/s, loss=0.0627, dice=0.8177]\n",
      "Validating Epoch 22: 100%|██████████| 11/11 [00:06<00:00,  1.66batch/s, loss=0.0437, dice=0.6876]\n"
     ]
    },
    {
     "name": "stdout",
     "output_type": "stream",
     "text": [
      "Epoch 22/30:\n",
      "  Train Loss: 0.0437, Train Dice: 0.6317\n",
      "  Val Loss: 0.0456, Val Dice: 0.7738\n",
      "------------------------------------------------------------\n"
     ]
    },
    {
     "name": "stderr",
     "output_type": "stream",
     "text": [
      "Training Epoch 23: 100%|██████████| 42/42 [00:24<00:00,  1.70batch/s, loss=0.0403, dice=0.5139]\n",
      "Validating Epoch 23: 100%|██████████| 11/11 [00:06<00:00,  1.67batch/s, loss=0.0367, dice=0.7021]\n"
     ]
    },
    {
     "name": "stdout",
     "output_type": "stream",
     "text": [
      "Epoch 23/30:\n",
      "  Train Loss: 0.0466, Train Dice: 0.6964\n",
      "  Val Loss: 0.0406, Val Dice: 0.8056\n",
      "------------------------------------------------------------\n"
     ]
    },
    {
     "name": "stderr",
     "output_type": "stream",
     "text": [
      "Training Epoch 24: 100%|██████████| 42/42 [00:25<00:00,  1.68batch/s, loss=0.0597, dice=0.5583]\n",
      "Validating Epoch 24: 100%|██████████| 11/11 [00:05<00:00,  1.93batch/s, loss=0.0353, dice=0.2516]\n"
     ]
    },
    {
     "name": "stdout",
     "output_type": "stream",
     "text": [
      "Epoch 24/30:\n",
      "  Train Loss: 0.0465, Train Dice: 0.6678\n",
      "  Val Loss: 0.0412, Val Dice: 0.6867\n",
      "------------------------------------------------------------\n"
     ]
    },
    {
     "name": "stderr",
     "output_type": "stream",
     "text": [
      "Training Epoch 25: 100%|██████████| 42/42 [00:25<00:00,  1.62batch/s, loss=0.0432, dice=0.4674]\n",
      "Validating Epoch 25: 100%|██████████| 11/11 [00:06<00:00,  1.83batch/s, loss=0.0433, dice=0.7247]\n"
     ]
    },
    {
     "name": "stdout",
     "output_type": "stream",
     "text": [
      "Epoch 25/30:\n",
      "  Train Loss: 0.0446, Train Dice: 0.7356\n",
      "  Val Loss: 0.0454, Val Dice: 0.8020\n",
      "------------------------------------------------------------\n"
     ]
    },
    {
     "name": "stderr",
     "output_type": "stream",
     "text": [
      "Training Epoch 26: 100%|██████████| 42/42 [00:25<00:00,  1.68batch/s, loss=0.0485, dice=0.7220]\n",
      "Validating Epoch 26: 100%|██████████| 11/11 [00:05<00:00,  1.96batch/s, loss=0.0299, dice=0.2903]"
     ]
    },
    {
     "name": "stdout",
     "output_type": "stream",
     "text": [
      "Epoch 26/30:\n",
      "  Train Loss: 0.0452, Train Dice: 0.6761\n",
      "  Val Loss: 0.0495, Val Dice: 0.6431\n",
      "Early stopping triggered after 26 epochs\n",
      "Training completed! Best validation Dice score: 0.8257\n"
     ]
    },
    {
     "name": "stderr",
     "output_type": "stream",
     "text": [
      "\n"
     ]
    }
   ],
   "source": [
    "unet_model = UNet(in_channels=1, out_channels=1, init_features=32)\n",
    "unet_model = unet_model.to(device)\n",
    "\n",
    "history = train_segmentation_model(\n",
    "    model=unet_model,\n",
    "    train_loader=train_loader,\n",
    "    val_loader=val_loader,\n",
    "    num_epochs=30,\n",
    "    patience=10\n",
    ")"
   ]
  },
  {
   "cell_type": "markdown",
   "metadata": {},
   "source": [
    "## Save the model\n",
    "Once your model is trained, remember to save it for testing. In PyTorch, you can save the model state dictionary using torch.save() for later loading and inference."
   ]
  },
  {
   "cell_type": "code",
   "execution_count": null,
   "metadata": {},
   "outputs": [],
   "source": []
  },
  {
   "cell_type": "markdown",
   "metadata": {},
   "source": [
    "## Run the model on the test set\n",
    "After your last Q&A session, you will be given the test set. Run your model on the test set to get the segmentation results and submit your results in a .zip file. If the MRI image is named '100_fla.nii.gz', save your segmentation result as '100_seg.nii.gz'. "
   ]
  },
  {
   "cell_type": "code",
   "execution_count": 15,
   "metadata": {},
   "outputs": [],
   "source": [
    "class BrainTumorInferenceDataset(Dataset):\n",
    "    def __init__(self, case_dirs):\n",
    "        \"\"\"\n",
    "        Inference Dataset for test data without labels\n",
    "        \"\"\"\n",
    "        self.case_dirs = case_dirs\n",
    "        \n",
    "        # Preprocessing: resize to model input size\n",
    "        self.preprocessing = tio.Compose([\n",
    "            tio.Resize((128, 128, 64)),  # Resize to model input size\n",
    "            tio.RescaleIntensity(out_min_max=(0, 1)),  # Normalize intensity\n",
    "        ])\n",
    "\n",
    "    def __len__(self):\n",
    "        return len(self.case_dirs)\n",
    "\n",
    "    def __getitem__(self, idx):\n",
    "        case_dir = self.case_dirs[idx]\n",
    "        case_name = os.path.basename(case_dir)\n",
    "\n",
    "        # Load MRI file\n",
    "        mri_path = os.path.join(case_dir, f\"{case_name.split('_')[-1]}_fla.nii.gz\")\n",
    "        mri_subject = tio.Subject(mri=tio.ScalarImage(mri_path))\n",
    "        \n",
    "        # Get original dimensions\n",
    "        original_tensor = mri_subject.mri.data.float()\n",
    "        original_shape = original_tensor.shape  # [1, H, W, D]\n",
    "        original_size = torch.tensor([original_shape[1], original_shape[2], original_shape[3]])\n",
    "        \n",
    "        # Get original affine matrix\n",
    "        original_affine = mri_subject.mri.affine\n",
    "        \n",
    "        # Preprocess for model input\n",
    "        processed_subject = self.preprocessing(mri_subject)\n",
    "        processed_tensor = processed_subject.mri.data.float()  # [1, 128, 128, 64]\n",
    "\n",
    "        return processed_tensor, case_name, original_size, original_affine"
   ]
  },
  {
   "cell_type": "code",
   "execution_count": 16,
   "metadata": {},
   "outputs": [],
   "source": [
    "def load_trained_model(model_path, device):\n",
    "    \"\"\"\n",
    "    Load trained model from checkpoint\n",
    "    \"\"\"\n",
    "    model = UNet(in_channels=1, out_channels=1, init_features=32)\n",
    "    model = model.to(device)\n",
    "    \n",
    "    # Load checkpoint\n",
    "    checkpoint = torch.load(model_path, map_location=device)\n",
    "    model.load_state_dict(checkpoint['model_state_dict'])\n",
    "    model.eval()\n",
    "    \n",
    "    print(f\"Model loaded from {model_path}\")\n",
    "    if 'best_val_dice' in checkpoint:\n",
    "        print(f\"Best validation Dice: {checkpoint['best_val_dice']:.4f}\")\n",
    "    \n",
    "    return model"
   ]
  },
  {
   "cell_type": "code",
   "execution_count": 22,
   "metadata": {},
   "outputs": [],
   "source": [
    "def generate_predictions(model, data_loader, device, output_dir='submission'):\n",
    "    \"\"\"\n",
    "    Generate predictions matching original dimensions and proper naming\n",
    "    \"\"\"\n",
    "    model.eval()\n",
    "    os.makedirs(output_dir, exist_ok=True)\n",
    "    \n",
    "    with torch.no_grad():\n",
    "        for batch_idx, (processed_data, case_names, original_sizes, original_affines) in enumerate(tqdm(data_loader, desc=\"Generating Predictions\")):\n",
    "            processed_data = processed_data.to(device)  # [batch, 1, 128, 128, 64]\n",
    "            \n",
    "            batch_size = processed_data.shape[0]\n",
    "            \n",
    "            for i in range(batch_size):\n",
    "                case_name = case_names[i] if isinstance(case_names, (list, tuple)) else case_names\n",
    "                \n",
    "                # Process original size information\n",
    "                if hasattr(original_sizes, 'cpu'):\n",
    "                    orig_size_tensor = original_sizes[i].cpu()\n",
    "                else:\n",
    "                    orig_size_tensor = original_sizes[i]\n",
    "                \n",
    "                orig_h, orig_w, orig_d = map(int, orig_size_tensor.tolist())\n",
    "                original_affine = original_affines[i].cpu().numpy() if hasattr(original_affines[i], 'cpu') else original_affines[i]\n",
    "                \n",
    "                print(f\"Processing case {case_name}\")\n",
    "                print(f\"  Original size: ({orig_h}, {orig_w}, {orig_d})\")\n",
    "                \n",
    "                # Process full 3D volume slice by slice\n",
    "                volume_3d = processed_data[i].squeeze(0)  # [128, 128, 64]\n",
    "                predicted_3d = torch.zeros_like(volume_3d)  # [128, 128, 64]\n",
    "                \n",
    "                # Predict slice by slice\n",
    "                for slice_idx in range(volume_3d.shape[2]):\n",
    "                    slice_2d = volume_3d[:, :, slice_idx].unsqueeze(0)  # [1, 128, 128]\n",
    "                    \n",
    "                    # Model prediction\n",
    "                    output = model(slice_2d.unsqueeze(0).to(device))  # [1, 1, 128, 128]\n",
    "                    pred_proba = torch.sigmoid(output)\n",
    "                    pred_binary = (pred_proba > 0.5).float()\n",
    "                    \n",
    "                    # Save prediction result\n",
    "                    predicted_3d[:, :, slice_idx] = pred_binary.squeeze()\n",
    "                \n",
    "                # Convert to numpy\n",
    "                predicted_np = predicted_3d.cpu().numpy()  # [128, 128, 64]\n",
    "                \n",
    "                # Resize to original dimensions\n",
    "                zoom_h = orig_h / 128\n",
    "                zoom_w = orig_w / 128\n",
    "                zoom_d = orig_d / 64\n",
    "                \n",
    "                # Use nearest neighbor interpolation for resizing\n",
    "                final_prediction = zoom(predicted_np, (zoom_h, zoom_w, zoom_d), order=0)\n",
    "                \n",
    "                # Ensure binary output\n",
    "                final_prediction = (final_prediction > 0.5).astype(np.float32)\n",
    "                \n",
    "                # Save with proper naming convention: '100_seg.nii.gz' for '100_fla.nii.gz'\n",
    "                case_id = case_name.split('_')[-1]  # Extract case ID\n",
    "                output_filename = f\"{case_id}_seg.nii.gz\"\n",
    "                output_path = os.path.join(output_dir, output_filename)\n",
    "                \n",
    "                # Save as NIfTI file\n",
    "                nii_img = nib.Nifti1Image(final_prediction, affine=original_affine)\n",
    "                nib.save(nii_img, output_path)\n",
    "                \n",
    "                print(f\"✅ Saved prediction: {output_filename}\")\n",
    "                print(f\"  Shape: {final_prediction.shape}\")\n",
    "                print(f\"  Unique values: {np.unique(final_prediction)}\")"
   ]
  },
  {
   "cell_type": "code",
   "execution_count": 23,
   "metadata": {},
   "outputs": [],
   "source": [
    "def create_submission_zip(submission_dir='submission', zip_filename='submission.zip'):\n",
    "    \"\"\"\n",
    "    Create ZIP file for submission\n",
    "    \"\"\"\n",
    "    if not os.path.exists(submission_dir):\n",
    "        print(f\"❌ Submission directory not found: {submission_dir}\")\n",
    "        return None\n",
    "    \n",
    "    # Get all prediction files\n",
    "    pred_files = [f for f in os.listdir(submission_dir) if f.endswith('_seg.nii.gz')]\n",
    "    \n",
    "    if len(pred_files) == 0:\n",
    "        print(\"❌ No prediction files found for submission\")\n",
    "        return None\n",
    "    \n",
    "    print(f\"Creating submission ZIP with {len(pred_files)} files...\")\n",
    "    \n",
    "    # Create ZIP file\n",
    "    zip_path = zip_filename\n",
    "    with zipfile.ZipFile(zip_path, 'w', zipfile.ZIP_DEFLATED) as zipf:\n",
    "        for file in pred_files:\n",
    "            file_path = os.path.join(submission_dir, file)\n",
    "            zipf.write(file_path, file)  # Add file to ZIP with proper name\n",
    "            print(f\"  Added to ZIP: {file}\")\n",
    "    \n",
    "    print(f\"✅ Submission ZIP created: {zip_path}\")\n",
    "    print(f\"   ZIP file size: {os.path.getsize(zip_path) / (1024*1024):.2f} MB\")\n",
    "    \n",
    "    return zip_path"
   ]
  },
  {
   "cell_type": "code",
   "execution_count": 24,
   "metadata": {},
   "outputs": [],
   "source": [
    "def run_submission_pipeline():\n",
    "    \"\"\"\n",
    "    Complete pipeline for generating submission results\n",
    "    \"\"\"\n",
    "    # Set device\n",
    "    device = torch.device('cuda' if torch.cuda.is_available() else 'cpu')\n",
    "    print(f'Using device: {device}')\n",
    "    \n",
    "    # Prepare test data paths\n",
    "    test_case_dirs = [os.path.join('test', d) for d in os.listdir('test') \n",
    "                     if not d.startswith('.') and os.path.isdir(os.path.join('test', d))]\n",
    "    print(f\"Test samples: {len(test_case_dirs)}\")\n",
    "    \n",
    "    if len(test_case_dirs) == 0:\n",
    "        print(\"❌ No test cases found!\")\n",
    "        return None\n",
    "    \n",
    "    # Create inference dataset\n",
    "    inference_dataset = BrainTumorInferenceDataset(test_case_dirs)\n",
    "    \n",
    "    # Create inference data loader\n",
    "    inference_loader = DataLoader(\n",
    "        inference_dataset, \n",
    "        batch_size=1,  # Use batch_size=1 for memory efficiency\n",
    "        shuffle=False, \n",
    "        num_workers=0\n",
    "    )\n",
    "    \n",
    "    print(f\"Inference batches: {len(inference_loader)}\")\n",
    "    \n",
    "    # Load trained model\n",
    "    print(\"Loading trained model...\")\n",
    "    model = load_trained_model('best_segmentation_model.pth', device)\n",
    "    \n",
    "    # Clean previous submission directory\n",
    "    submission_dir = 'submission'\n",
    "    if os.path.exists(submission_dir):\n",
    "        shutil.rmtree(submission_dir)\n",
    "        print(f\"Cleaned previous submission directory: {submission_dir}\")\n",
    "    \n",
    "    # Generate predictions with proper naming\n",
    "    print(\"Generating predictions for submission...\")\n",
    "    generate_predictions(model, inference_loader, device, submission_dir)\n",
    "    \n",
    "    # Create submission ZIP\n",
    "    print(\"Creating submission ZIP file...\")\n",
    "    zip_path = create_submission_zip(submission_dir, 'submission.zip')\n",
    "    \n",
    "    return zip_path"
   ]
  },
  {
   "cell_type": "code",
   "execution_count": 25,
   "metadata": {},
   "outputs": [
    {
     "name": "stdout",
     "output_type": "stream",
     "text": [
      "Using device: cuda\n",
      "Test samples: 41\n",
      "Inference batches: 41\n",
      "Loading trained model...\n",
      "Model loaded from best_segmentation_model.pth\n",
      "Best validation Dice: 0.8257\n",
      "Cleaned previous submission directory: submission\n",
      "Generating predictions for submission...\n"
     ]
    },
    {
     "name": "stderr",
     "output_type": "stream",
     "text": [
      "Generating Predictions:   0%|          | 0/41 [00:00<?, ?it/s]"
     ]
    },
    {
     "name": "stdout",
     "output_type": "stream",
     "text": [
      "Processing case 229\n",
      "  Original size: (240, 240, 155)\n"
     ]
    },
    {
     "name": "stderr",
     "output_type": "stream",
     "text": [
      "Generating Predictions:   2%|▏         | 1/41 [00:00<00:36,  1.10it/s]"
     ]
    },
    {
     "name": "stdout",
     "output_type": "stream",
     "text": [
      "✅ Saved prediction: 229_seg.nii.gz\n",
      "  Shape: (240, 240, 155)\n",
      "  Unique values: [0. 1.]\n",
      "Processing case 227\n",
      "  Original size: (240, 240, 155)\n"
     ]
    },
    {
     "name": "stderr",
     "output_type": "stream",
     "text": [
      "Generating Predictions:   5%|▍         | 2/41 [00:01<00:28,  1.38it/s]"
     ]
    },
    {
     "name": "stdout",
     "output_type": "stream",
     "text": [
      "✅ Saved prediction: 227_seg.nii.gz\n",
      "  Shape: (240, 240, 155)\n",
      "  Unique values: [0. 1.]\n",
      "Processing case 217\n",
      "  Original size: (240, 240, 155)\n"
     ]
    },
    {
     "name": "stderr",
     "output_type": "stream",
     "text": [
      "Generating Predictions:   7%|▋         | 3/41 [00:02<00:26,  1.46it/s]"
     ]
    },
    {
     "name": "stdout",
     "output_type": "stream",
     "text": [
      "✅ Saved prediction: 217_seg.nii.gz\n",
      "  Shape: (240, 240, 155)\n",
      "  Unique values: [0. 1.]\n",
      "Processing case 219\n",
      "  Original size: (240, 240, 155)\n"
     ]
    },
    {
     "name": "stderr",
     "output_type": "stream",
     "text": [
      "Generating Predictions:  10%|▉         | 4/41 [00:02<00:24,  1.51it/s]"
     ]
    },
    {
     "name": "stdout",
     "output_type": "stream",
     "text": [
      "✅ Saved prediction: 219_seg.nii.gz\n",
      "  Shape: (240, 240, 155)\n",
      "  Unique values: [0. 1.]\n",
      "Processing case 240\n",
      "  Original size: (240, 240, 155)\n"
     ]
    },
    {
     "name": "stderr",
     "output_type": "stream",
     "text": [
      "Generating Predictions:  12%|█▏        | 5/41 [00:03<00:23,  1.52it/s]"
     ]
    },
    {
     "name": "stdout",
     "output_type": "stream",
     "text": [
      "✅ Saved prediction: 240_seg.nii.gz\n",
      "  Shape: (240, 240, 155)\n",
      "  Unique values: [0. 1.]\n",
      "Processing case 249\n",
      "  Original size: (240, 240, 155)\n"
     ]
    },
    {
     "name": "stderr",
     "output_type": "stream",
     "text": [
      "Generating Predictions:  15%|█▍        | 6/41 [00:04<00:22,  1.57it/s]"
     ]
    },
    {
     "name": "stdout",
     "output_type": "stream",
     "text": [
      "✅ Saved prediction: 249_seg.nii.gz\n",
      "  Shape: (240, 240, 155)\n",
      "  Unique values: [0. 1.]\n",
      "Processing case 225\n",
      "  Original size: (240, 240, 155)\n"
     ]
    },
    {
     "name": "stderr",
     "output_type": "stream",
     "text": [
      "Generating Predictions:  17%|█▋        | 7/41 [00:04<00:21,  1.60it/s]"
     ]
    },
    {
     "name": "stdout",
     "output_type": "stream",
     "text": [
      "✅ Saved prediction: 225_seg.nii.gz\n",
      "  Shape: (240, 240, 155)\n",
      "  Unique values: [0. 1.]\n",
      "Processing case 244\n",
      "  Original size: (240, 240, 155)\n"
     ]
    },
    {
     "name": "stderr",
     "output_type": "stream",
     "text": [
      "Generating Predictions:  20%|█▉        | 8/41 [00:05<00:20,  1.59it/s]"
     ]
    },
    {
     "name": "stdout",
     "output_type": "stream",
     "text": [
      "✅ Saved prediction: 244_seg.nii.gz\n",
      "  Shape: (240, 240, 155)\n",
      "  Unique values: [0. 1.]\n",
      "Processing case 247\n",
      "  Original size: (240, 240, 155)\n"
     ]
    },
    {
     "name": "stderr",
     "output_type": "stream",
     "text": [
      "Generating Predictions:  22%|██▏       | 9/41 [00:05<00:19,  1.65it/s]"
     ]
    },
    {
     "name": "stdout",
     "output_type": "stream",
     "text": [
      "✅ Saved prediction: 247_seg.nii.gz\n",
      "  Shape: (240, 240, 155)\n",
      "  Unique values: [0. 1.]\n",
      "Processing case 226\n",
      "  Original size: (240, 240, 155)\n"
     ]
    },
    {
     "name": "stderr",
     "output_type": "stream",
     "text": [
      "Generating Predictions:  24%|██▍       | 10/41 [00:06<00:18,  1.67it/s]"
     ]
    },
    {
     "name": "stdout",
     "output_type": "stream",
     "text": [
      "✅ Saved prediction: 226_seg.nii.gz\n",
      "  Shape: (240, 240, 155)\n",
      "  Unique values: [0. 1.]\n",
      "Processing case 245\n",
      "  Original size: (240, 240, 155)\n"
     ]
    },
    {
     "name": "stderr",
     "output_type": "stream",
     "text": [
      "Generating Predictions:  27%|██▋       | 11/41 [00:07<00:18,  1.64it/s]"
     ]
    },
    {
     "name": "stdout",
     "output_type": "stream",
     "text": [
      "✅ Saved prediction: 245_seg.nii.gz\n",
      "  Shape: (240, 240, 155)\n",
      "  Unique values: [0. 1.]\n",
      "Processing case 216\n",
      "  Original size: (240, 240, 155)\n"
     ]
    },
    {
     "name": "stderr",
     "output_type": "stream",
     "text": [
      "Generating Predictions:  29%|██▉       | 12/41 [00:07<00:18,  1.60it/s]"
     ]
    },
    {
     "name": "stdout",
     "output_type": "stream",
     "text": [
      "✅ Saved prediction: 216_seg.nii.gz\n",
      "  Shape: (240, 240, 155)\n",
      "  Unique values: [0. 1.]\n",
      "Processing case 228\n",
      "  Original size: (240, 240, 155)\n"
     ]
    },
    {
     "name": "stderr",
     "output_type": "stream",
     "text": [
      "Generating Predictions:  32%|███▏      | 13/41 [00:08<00:17,  1.61it/s]"
     ]
    },
    {
     "name": "stdout",
     "output_type": "stream",
     "text": [
      "✅ Saved prediction: 228_seg.nii.gz\n",
      "  Shape: (240, 240, 155)\n",
      "  Unique values: [0. 1.]\n",
      "Processing case 215\n",
      "  Original size: (240, 240, 155)\n"
     ]
    },
    {
     "name": "stderr",
     "output_type": "stream",
     "text": [
      "Generating Predictions:  34%|███▍      | 14/41 [00:08<00:16,  1.63it/s]"
     ]
    },
    {
     "name": "stdout",
     "output_type": "stream",
     "text": [
      "✅ Saved prediction: 215_seg.nii.gz\n",
      "  Shape: (240, 240, 155)\n",
      "  Unique values: [0. 1.]\n",
      "Processing case 243\n",
      "  Original size: (240, 240, 155)\n"
     ]
    },
    {
     "name": "stderr",
     "output_type": "stream",
     "text": [
      "Generating Predictions:  37%|███▋      | 15/41 [00:09<00:15,  1.64it/s]"
     ]
    },
    {
     "name": "stdout",
     "output_type": "stream",
     "text": [
      "✅ Saved prediction: 243_seg.nii.gz\n",
      "  Shape: (240, 240, 155)\n",
      "  Unique values: [0. 1.]\n",
      "Processing case 241\n",
      "  Original size: (240, 240, 155)\n"
     ]
    },
    {
     "name": "stderr",
     "output_type": "stream",
     "text": [
      "Generating Predictions:  39%|███▉      | 16/41 [00:10<00:15,  1.65it/s]"
     ]
    },
    {
     "name": "stdout",
     "output_type": "stream",
     "text": [
      "✅ Saved prediction: 241_seg.nii.gz\n",
      "  Shape: (240, 240, 155)\n",
      "  Unique values: [0. 1.]\n",
      "Processing case 248\n",
      "  Original size: (240, 240, 155)\n"
     ]
    },
    {
     "name": "stderr",
     "output_type": "stream",
     "text": [
      "Generating Predictions:  41%|████▏     | 17/41 [00:10<00:14,  1.61it/s]"
     ]
    },
    {
     "name": "stdout",
     "output_type": "stream",
     "text": [
      "✅ Saved prediction: 248_seg.nii.gz\n",
      "  Shape: (240, 240, 155)\n",
      "  Unique values: [0. 1.]\n",
      "Processing case 239\n",
      "  Original size: (240, 240, 155)\n"
     ]
    },
    {
     "name": "stderr",
     "output_type": "stream",
     "text": [
      "Generating Predictions:  44%|████▍     | 18/41 [00:11<00:14,  1.60it/s]"
     ]
    },
    {
     "name": "stdout",
     "output_type": "stream",
     "text": [
      "✅ Saved prediction: 239_seg.nii.gz\n",
      "  Shape: (240, 240, 155)\n",
      "  Unique values: [0. 1.]\n",
      "Processing case 238\n",
      "  Original size: (240, 240, 155)\n"
     ]
    },
    {
     "name": "stderr",
     "output_type": "stream",
     "text": [
      "Generating Predictions:  46%|████▋     | 19/41 [00:11<00:13,  1.61it/s]"
     ]
    },
    {
     "name": "stdout",
     "output_type": "stream",
     "text": [
      "✅ Saved prediction: 238_seg.nii.gz\n",
      "  Shape: (240, 240, 155)\n",
      "  Unique values: [0. 1.]\n",
      "Processing case 211\n",
      "  Original size: (240, 240, 155)\n"
     ]
    },
    {
     "name": "stderr",
     "output_type": "stream",
     "text": [
      "Generating Predictions:  49%|████▉     | 20/41 [00:12<00:12,  1.65it/s]"
     ]
    },
    {
     "name": "stdout",
     "output_type": "stream",
     "text": [
      "✅ Saved prediction: 211_seg.nii.gz\n",
      "  Shape: (240, 240, 155)\n",
      "  Unique values: [0. 1.]\n",
      "Processing case 242\n",
      "  Original size: (240, 240, 155)\n"
     ]
    },
    {
     "name": "stderr",
     "output_type": "stream",
     "text": [
      "Generating Predictions:  51%|█████     | 21/41 [00:13<00:12,  1.64it/s]"
     ]
    },
    {
     "name": "stdout",
     "output_type": "stream",
     "text": [
      "✅ Saved prediction: 242_seg.nii.gz\n",
      "  Shape: (240, 240, 155)\n",
      "  Unique values: [0. 1.]\n",
      "Processing case 218\n",
      "  Original size: (240, 240, 155)\n"
     ]
    },
    {
     "name": "stderr",
     "output_type": "stream",
     "text": [
      "Generating Predictions:  54%|█████▎    | 22/41 [00:13<00:11,  1.66it/s]"
     ]
    },
    {
     "name": "stdout",
     "output_type": "stream",
     "text": [
      "✅ Saved prediction: 218_seg.nii.gz\n",
      "  Shape: (240, 240, 155)\n",
      "  Unique values: [0. 1.]\n",
      "Processing case 234\n",
      "  Original size: (240, 240, 155)\n"
     ]
    },
    {
     "name": "stderr",
     "output_type": "stream",
     "text": [
      "Generating Predictions:  56%|█████▌    | 23/41 [00:14<00:11,  1.63it/s]"
     ]
    },
    {
     "name": "stdout",
     "output_type": "stream",
     "text": [
      "✅ Saved prediction: 234_seg.nii.gz\n",
      "  Shape: (240, 240, 155)\n",
      "  Unique values: [0. 1.]\n",
      "Processing case 231\n",
      "  Original size: (240, 240, 155)\n"
     ]
    },
    {
     "name": "stderr",
     "output_type": "stream",
     "text": [
      "Generating Predictions:  59%|█████▊    | 24/41 [00:15<00:10,  1.62it/s]"
     ]
    },
    {
     "name": "stdout",
     "output_type": "stream",
     "text": [
      "✅ Saved prediction: 231_seg.nii.gz\n",
      "  Shape: (240, 240, 155)\n",
      "  Unique values: [0. 1.]\n",
      "Processing case 250\n",
      "  Original size: (240, 240, 155)\n"
     ]
    },
    {
     "name": "stderr",
     "output_type": "stream",
     "text": [
      "Generating Predictions:  61%|██████    | 25/41 [00:15<00:09,  1.62it/s]"
     ]
    },
    {
     "name": "stdout",
     "output_type": "stream",
     "text": [
      "✅ Saved prediction: 250_seg.nii.gz\n",
      "  Shape: (240, 240, 155)\n",
      "  Unique values: [0. 1.]\n",
      "Processing case 213\n",
      "  Original size: (240, 240, 155)\n"
     ]
    },
    {
     "name": "stderr",
     "output_type": "stream",
     "text": [
      "Generating Predictions:  63%|██████▎   | 26/41 [00:16<00:09,  1.61it/s]"
     ]
    },
    {
     "name": "stdout",
     "output_type": "stream",
     "text": [
      "✅ Saved prediction: 213_seg.nii.gz\n",
      "  Shape: (240, 240, 155)\n",
      "  Unique values: [0. 1.]\n",
      "Processing case 235\n",
      "  Original size: (240, 240, 155)\n"
     ]
    },
    {
     "name": "stderr",
     "output_type": "stream",
     "text": [
      "Generating Predictions:  66%|██████▌   | 27/41 [00:16<00:08,  1.60it/s]"
     ]
    },
    {
     "name": "stdout",
     "output_type": "stream",
     "text": [
      "✅ Saved prediction: 235_seg.nii.gz\n",
      "  Shape: (240, 240, 155)\n",
      "  Unique values: [0. 1.]\n",
      "Processing case 236\n",
      "  Original size: (240, 240, 155)\n"
     ]
    },
    {
     "name": "stderr",
     "output_type": "stream",
     "text": [
      "Generating Predictions:  68%|██████▊   | 28/41 [00:17<00:08,  1.61it/s]"
     ]
    },
    {
     "name": "stdout",
     "output_type": "stream",
     "text": [
      "✅ Saved prediction: 236_seg.nii.gz\n",
      "  Shape: (240, 240, 155)\n",
      "  Unique values: [0. 1.]\n",
      "Processing case 220\n",
      "  Original size: (240, 240, 155)\n"
     ]
    },
    {
     "name": "stderr",
     "output_type": "stream",
     "text": [
      "Generating Predictions:  71%|███████   | 29/41 [00:18<00:07,  1.66it/s]"
     ]
    },
    {
     "name": "stdout",
     "output_type": "stream",
     "text": [
      "✅ Saved prediction: 220_seg.nii.gz\n",
      "  Shape: (240, 240, 155)\n",
      "  Unique values: [0. 1.]\n",
      "Processing case 212\n",
      "  Original size: (240, 240, 155)\n"
     ]
    },
    {
     "name": "stderr",
     "output_type": "stream",
     "text": [
      "Generating Predictions:  73%|███████▎  | 30/41 [00:18<00:06,  1.64it/s]"
     ]
    },
    {
     "name": "stdout",
     "output_type": "stream",
     "text": [
      "✅ Saved prediction: 212_seg.nii.gz\n",
      "  Shape: (240, 240, 155)\n",
      "  Unique values: [0. 1.]\n",
      "Processing case 223\n",
      "  Original size: (240, 240, 155)\n"
     ]
    },
    {
     "name": "stderr",
     "output_type": "stream",
     "text": [
      "Generating Predictions:  76%|███████▌  | 31/41 [00:19<00:06,  1.63it/s]"
     ]
    },
    {
     "name": "stdout",
     "output_type": "stream",
     "text": [
      "✅ Saved prediction: 223_seg.nii.gz\n",
      "  Shape: (240, 240, 155)\n",
      "  Unique values: [0. 1.]\n",
      "Processing case 221\n",
      "  Original size: (240, 240, 155)\n"
     ]
    },
    {
     "name": "stderr",
     "output_type": "stream",
     "text": [
      "Generating Predictions:  78%|███████▊  | 32/41 [00:19<00:05,  1.63it/s]"
     ]
    },
    {
     "name": "stdout",
     "output_type": "stream",
     "text": [
      "✅ Saved prediction: 221_seg.nii.gz\n",
      "  Shape: (240, 240, 155)\n",
      "  Unique values: [0. 1.]\n",
      "Processing case 251\n",
      "  Original size: (240, 240, 155)\n"
     ]
    },
    {
     "name": "stderr",
     "output_type": "stream",
     "text": [
      "Generating Predictions:  80%|████████  | 33/41 [00:20<00:04,  1.63it/s]"
     ]
    },
    {
     "name": "stdout",
     "output_type": "stream",
     "text": [
      "✅ Saved prediction: 251_seg.nii.gz\n",
      "  Shape: (240, 240, 155)\n",
      "  Unique values: [0. 1.]\n",
      "Processing case 233\n",
      "  Original size: (240, 240, 155)\n"
     ]
    },
    {
     "name": "stderr",
     "output_type": "stream",
     "text": [
      "Generating Predictions:  83%|████████▎ | 34/41 [00:21<00:04,  1.63it/s]"
     ]
    },
    {
     "name": "stdout",
     "output_type": "stream",
     "text": [
      "✅ Saved prediction: 233_seg.nii.gz\n",
      "  Shape: (240, 240, 155)\n",
      "  Unique values: [0. 1.]\n",
      "Processing case 230\n",
      "  Original size: (240, 240, 155)\n"
     ]
    },
    {
     "name": "stderr",
     "output_type": "stream",
     "text": [
      "Generating Predictions:  85%|████████▌ | 35/41 [00:21<00:03,  1.63it/s]"
     ]
    },
    {
     "name": "stdout",
     "output_type": "stream",
     "text": [
      "✅ Saved prediction: 230_seg.nii.gz\n",
      "  Shape: (240, 240, 155)\n",
      "  Unique values: [0. 1.]\n",
      "Processing case 237\n",
      "  Original size: (240, 240, 155)\n"
     ]
    },
    {
     "name": "stderr",
     "output_type": "stream",
     "text": [
      "Generating Predictions:  88%|████████▊ | 36/41 [00:22<00:03,  1.59it/s]"
     ]
    },
    {
     "name": "stdout",
     "output_type": "stream",
     "text": [
      "✅ Saved prediction: 237_seg.nii.gz\n",
      "  Shape: (240, 240, 155)\n",
      "  Unique values: [0. 1.]\n",
      "Processing case 214\n",
      "  Original size: (240, 240, 155)\n"
     ]
    },
    {
     "name": "stderr",
     "output_type": "stream",
     "text": [
      "Generating Predictions:  90%|█████████ | 37/41 [00:23<00:02,  1.52it/s]"
     ]
    },
    {
     "name": "stdout",
     "output_type": "stream",
     "text": [
      "✅ Saved prediction: 214_seg.nii.gz\n",
      "  Shape: (240, 240, 155)\n",
      "  Unique values: [0. 1.]\n",
      "Processing case 224\n",
      "  Original size: (240, 240, 155)\n"
     ]
    },
    {
     "name": "stderr",
     "output_type": "stream",
     "text": [
      "Generating Predictions:  93%|█████████▎| 38/41 [00:23<00:01,  1.52it/s]"
     ]
    },
    {
     "name": "stdout",
     "output_type": "stream",
     "text": [
      "✅ Saved prediction: 224_seg.nii.gz\n",
      "  Shape: (240, 240, 155)\n",
      "  Unique values: [0. 1.]\n",
      "Processing case 232\n",
      "  Original size: (240, 240, 155)\n"
     ]
    },
    {
     "name": "stderr",
     "output_type": "stream",
     "text": [
      "Generating Predictions:  95%|█████████▌| 39/41 [00:24<00:01,  1.54it/s]"
     ]
    },
    {
     "name": "stdout",
     "output_type": "stream",
     "text": [
      "✅ Saved prediction: 232_seg.nii.gz\n",
      "  Shape: (240, 240, 155)\n",
      "  Unique values: [0. 1.]\n",
      "Processing case 222\n",
      "  Original size: (240, 240, 155)\n"
     ]
    },
    {
     "name": "stderr",
     "output_type": "stream",
     "text": [
      "Generating Predictions:  98%|█████████▊| 40/41 [00:25<00:00,  1.57it/s]"
     ]
    },
    {
     "name": "stdout",
     "output_type": "stream",
     "text": [
      "✅ Saved prediction: 222_seg.nii.gz\n",
      "  Shape: (240, 240, 155)\n",
      "  Unique values: [0. 1.]\n",
      "Processing case 246\n",
      "  Original size: (240, 240, 155)\n"
     ]
    },
    {
     "name": "stderr",
     "output_type": "stream",
     "text": [
      "Generating Predictions: 100%|██████████| 41/41 [00:25<00:00,  1.60it/s]"
     ]
    },
    {
     "name": "stdout",
     "output_type": "stream",
     "text": [
      "✅ Saved prediction: 246_seg.nii.gz\n",
      "  Shape: (240, 240, 155)\n",
      "  Unique values: [0. 1.]\n",
      "Creating submission ZIP file...\n",
      "Creating submission ZIP with 41 files...\n",
      "  Added to ZIP: 212_seg.nii.gz\n",
      "  Added to ZIP: 222_seg.nii.gz\n",
      "  Added to ZIP: 218_seg.nii.gz\n",
      "  Added to ZIP: 240_seg.nii.gz\n",
      "  Added to ZIP: 241_seg.nii.gz\n",
      "  Added to ZIP: 234_seg.nii.gz\n",
      "  Added to ZIP: 235_seg.nii.gz\n",
      "  Added to ZIP: 217_seg.nii.gz\n",
      "  Added to ZIP: 214_seg.nii.gz\n",
      "  Added to ZIP: 213_seg.nii.gz\n",
      "  Added to ZIP: 237_seg.nii.gz\n",
      "  Added to ZIP: 239_seg.nii.gz\n",
      "  Added to ZIP: 219_seg.nii.gz\n",
      "  Added to ZIP: 244_seg.nii.gz\n",
      "  Added to ZIP: 250_seg.nii.gz\n",
      "  Added to ZIP: 224_seg.nii.gz\n",
      "  Added to ZIP: 238_seg.nii.gz\n",
      "  Added to ZIP: 246_seg.nii.gz\n",
      "  Added to ZIP: 228_seg.nii.gz\n",
      "  Added to ZIP: 242_seg.nii.gz\n",
      "  Added to ZIP: 223_seg.nii.gz\n",
      "  Added to ZIP: 247_seg.nii.gz\n",
      "  Added to ZIP: 236_seg.nii.gz\n",
      "  Added to ZIP: 249_seg.nii.gz\n",
      "  Added to ZIP: 245_seg.nii.gz\n",
      "  Added to ZIP: 227_seg.nii.gz\n",
      "  Added to ZIP: 211_seg.nii.gz\n",
      "  Added to ZIP: 215_seg.nii.gz\n",
      "  Added to ZIP: 251_seg.nii.gz\n",
      "  Added to ZIP: 243_seg.nii.gz\n",
      "  Added to ZIP: 225_seg.nii.gz\n",
      "  Added to ZIP: 221_seg.nii.gz\n",
      "  Added to ZIP: 231_seg.nii.gz\n",
      "  Added to ZIP: 220_seg.nii.gz\n",
      "  Added to ZIP: 233_seg.nii.gz\n",
      "  Added to ZIP: 229_seg.nii.gz\n",
      "  Added to ZIP: 216_seg.nii.gz\n",
      "  Added to ZIP: 230_seg.nii.gz\n",
      "  Added to ZIP: 232_seg.nii.gz\n",
      "  Added to ZIP: 248_seg.nii.gz\n",
      "  Added to ZIP: 226_seg.nii.gz\n",
      "✅ Submission ZIP created: submission.zip\n",
      "   ZIP file size: 0.88 MB\n",
      "\n",
      "🎉 Submission complete!\n",
      "   Submission file: submission.zip\n",
      "   Ready for upload!\n"
     ]
    },
    {
     "name": "stderr",
     "output_type": "stream",
     "text": [
      "\n"
     ]
    }
   ],
   "source": [
    "zip_file = run_submission_pipeline()\n",
    "if zip_file:\n",
    "    print(f\"\\n🎉 Submission complete!\")\n",
    "    print(f\"   Submission file: {zip_file}\")\n",
    "    print(f\"   Ready for upload!\")\n",
    "else:\n",
    "    print(f\"\\n❌ Submission failed!\")"
   ]
  },
  {
   "cell_type": "code",
   "execution_count": null,
   "metadata": {},
   "outputs": [],
   "source": []
  }
 ],
 "metadata": {
  "kernelspec": {
   "display_name": "torch",
   "language": "python",
   "name": "python3"
  },
  "language_info": {
   "codemirror_mode": {
    "name": "ipython",
    "version": 3
   },
   "file_extension": ".py",
   "mimetype": "text/x-python",
   "name": "python",
   "nbconvert_exporter": "python",
   "pygments_lexer": "ipython3",
   "version": "3.10.13"
  }
 },
 "nbformat": 4,
 "nbformat_minor": 2
}
